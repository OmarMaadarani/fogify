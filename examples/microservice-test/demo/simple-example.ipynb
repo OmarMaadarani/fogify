{
 "cells": [
  {
   "cell_type": "markdown",
   "metadata": {},
   "source": [
    "# Fogify Example - Simple Weather App Microservice \n",
    "This Example code is used to test Fogify using a Web-based Microservice."
   ]
  },
  {
   "cell_type": "markdown",
   "metadata": {},
   "source": [
    "## Import FogifySDK, connect with controller, and import \"fogified\" `docker-compose` file"
   ]
  },
  {
   "cell_type": "code",
   "execution_count": 3,
   "metadata": {},
   "outputs": [],
   "source": [
    "from FogifySDK import FogifySDK\n",
    "fogify = FogifySDK(\"http://controller:5000\", \"docker-compose.yaml\")"
   ]
  },
  {
   "cell_type": "markdown",
   "metadata": {},
   "source": [
    "## Deploy the topology\n",
    "While the system deploys the topology, a progress bar illustrates the current status."
   ]
  },
  {
   "cell_type": "code",
   "execution_count": 4,
   "metadata": {},
   "outputs": [
    {
     "name": "stderr",
     "output_type": "stream",
     "text": [
      "Deploy process: 6it [00:05,  1.19it/s]               \n"
     ]
    },
    {
     "data": {
      "text/plain": [
       "{'message': \"The services are deployed ( {'edge-svr-1': 1, 'edge-forecast-svc-1': 1, 'edge-current-svc-1': 1, 'user-workload-1': 1} )\"}"
      ]
     },
     "execution_count": 4,
     "metadata": {},
     "output_type": "execute_result"
    }
   ],
   "source": [
    "fogify.deploy()"
   ]
  },
  {
   "cell_type": "markdown",
   "metadata": {},
   "source": [
    "## Retrieve the monitoring metrics from running instances\n",
    "Fogify allows users to retrieve monitoring metrics in `pandas` dataframes.\n",
    "The latter helps in depicting:"
   ]
  },
  {
   "cell_type": "markdown",
   "metadata": {},
   "source": [
    "### Tables of values"
   ]
  },
  {
   "cell_type": "code",
   "execution_count": null,
   "metadata": {},
   "outputs": [
    {
     "data": {
      "text/html": [
       "<div>\n",
       "<style scoped>\n",
       "    .dataframe tbody tr th:only-of-type {\n",
       "        vertical-align: middle;\n",
       "    }\n",
       "\n",
       "    .dataframe tbody tr th {\n",
       "        vertical-align: top;\n",
       "    }\n",
       "\n",
       "    .dataframe thead th {\n",
       "        text-align: right;\n",
       "    }\n",
       "</style>\n",
       "<table border=\"1\" class=\"dataframe\">\n",
       "  <thead>\n",
       "    <tr style=\"text-align: right;\">\n",
       "      <th></th>\n",
       "      <th>count</th>\n",
       "      <th>memory_util</th>\n",
       "      <th>cpu</th>\n",
       "      <th>cpu_util</th>\n",
       "      <th>memory</th>\n",
       "      <th>network_rx_internet</th>\n",
       "      <th>network_tx_internet</th>\n",
       "      <th>network_rx_edge-net-1</th>\n",
       "      <th>network_tx_edge-net-1</th>\n",
       "    </tr>\n",
       "    <tr>\n",
       "      <th>timestamp</th>\n",
       "      <th></th>\n",
       "      <th></th>\n",
       "      <th></th>\n",
       "      <th></th>\n",
       "      <th></th>\n",
       "      <th></th>\n",
       "      <th></th>\n",
       "      <th></th>\n",
       "      <th></th>\n",
       "    </tr>\n",
       "  </thead>\n",
       "  <tbody>\n",
       "    <tr>\n",
       "      <th>2020-09-17 12:24:44</th>\n",
       "      <td>3</td>\n",
       "      <td>0.022070</td>\n",
       "      <td>1.030282e+09</td>\n",
       "      <td>0.000000</td>\n",
       "      <td>47394816.0</td>\n",
       "      <td>0.0</td>\n",
       "      <td>0.0</td>\n",
       "      <td>0.0</td>\n",
       "      <td>0.0</td>\n",
       "    </tr>\n",
       "    <tr>\n",
       "      <th>2020-09-17 12:24:51</th>\n",
       "      <td>4</td>\n",
       "      <td>0.022070</td>\n",
       "      <td>1.089237e+09</td>\n",
       "      <td>0.645380</td>\n",
       "      <td>47394816.0</td>\n",
       "      <td>0.0</td>\n",
       "      <td>0.0</td>\n",
       "      <td>0.0</td>\n",
       "      <td>0.0</td>\n",
       "    </tr>\n",
       "    <tr>\n",
       "      <th>2020-09-17 12:24:58</th>\n",
       "      <td>5</td>\n",
       "      <td>0.022375</td>\n",
       "      <td>1.681259e+09</td>\n",
       "      <td>5.587496</td>\n",
       "      <td>48050176.0</td>\n",
       "      <td>0.0</td>\n",
       "      <td>0.0</td>\n",
       "      <td>95342.0</td>\n",
       "      <td>80682.0</td>\n",
       "    </tr>\n",
       "    <tr>\n",
       "      <th>2020-09-17 12:25:03</th>\n",
       "      <td>6</td>\n",
       "      <td>0.022707</td>\n",
       "      <td>2.549128e+09</td>\n",
       "      <td>10.045213</td>\n",
       "      <td>48762880.0</td>\n",
       "      <td>1188.0</td>\n",
       "      <td>22516.0</td>\n",
       "      <td>176926.0</td>\n",
       "      <td>149736.0</td>\n",
       "    </tr>\n",
       "    <tr>\n",
       "      <th>2020-09-17 12:25:08</th>\n",
       "      <td>7</td>\n",
       "      <td>0.022732</td>\n",
       "      <td>2.973427e+09</td>\n",
       "      <td>6.034867</td>\n",
       "      <td>48816128.0</td>\n",
       "      <td>1188.0</td>\n",
       "      <td>22516.0</td>\n",
       "      <td>231297.0</td>\n",
       "      <td>195816.0</td>\n",
       "    </tr>\n",
       "  </tbody>\n",
       "</table>\n",
       "</div>"
      ],
      "text/plain": [
       "                     count  memory_util           cpu   cpu_util      memory  \\\n",
       "timestamp                                                                      \n",
       "2020-09-17 12:24:44      3     0.022070  1.030282e+09   0.000000  47394816.0   \n",
       "2020-09-17 12:24:51      4     0.022070  1.089237e+09   0.645380  47394816.0   \n",
       "2020-09-17 12:24:58      5     0.022375  1.681259e+09   5.587496  48050176.0   \n",
       "2020-09-17 12:25:03      6     0.022707  2.549128e+09  10.045213  48762880.0   \n",
       "2020-09-17 12:25:08      7     0.022732  2.973427e+09   6.034867  48816128.0   \n",
       "\n",
       "                     network_rx_internet  network_tx_internet  \\\n",
       "timestamp                                                       \n",
       "2020-09-17 12:24:44                  0.0                  0.0   \n",
       "2020-09-17 12:24:51                  0.0                  0.0   \n",
       "2020-09-17 12:24:58                  0.0                  0.0   \n",
       "2020-09-17 12:25:03               1188.0              22516.0   \n",
       "2020-09-17 12:25:08               1188.0              22516.0   \n",
       "\n",
       "                     network_rx_edge-net-1  network_tx_edge-net-1  \n",
       "timestamp                                                          \n",
       "2020-09-17 12:24:44                    0.0                    0.0  \n",
       "2020-09-17 12:24:51                    0.0                    0.0  \n",
       "2020-09-17 12:24:58                95342.0                80682.0  \n",
       "2020-09-17 12:25:03               176926.0               149736.0  \n",
       "2020-09-17 12:25:08               231297.0               195816.0  "
      ]
     },
     "metadata": {},
     "output_type": "display_data"
    }
   ],
   "source": [
    "fogify.get_metrics_from('edge-svr-1.1')"
   ]
  },
  {
   "cell_type": "markdown",
   "metadata": {},
   "source": [
    "### Summaries"
   ]
  },
  {
   "cell_type": "code",
   "execution_count": null,
   "metadata": {},
   "outputs": [
    {
     "data": {
      "text/html": [
       "<div>\n",
       "<style scoped>\n",
       "    .dataframe tbody tr th:only-of-type {\n",
       "        vertical-align: middle;\n",
       "    }\n",
       "\n",
       "    .dataframe tbody tr th {\n",
       "        vertical-align: top;\n",
       "    }\n",
       "\n",
       "    .dataframe thead th {\n",
       "        text-align: right;\n",
       "    }\n",
       "</style>\n",
       "<table border=\"1\" class=\"dataframe\">\n",
       "  <thead>\n",
       "    <tr style=\"text-align: right;\">\n",
       "      <th></th>\n",
       "      <th>count</th>\n",
       "      <th>memory_util</th>\n",
       "      <th>cpu</th>\n",
       "      <th>cpu_util</th>\n",
       "      <th>memory</th>\n",
       "      <th>network_rx_internet</th>\n",
       "      <th>network_tx_internet</th>\n",
       "      <th>network_rx_edge-net-1</th>\n",
       "      <th>network_tx_edge-net-1</th>\n",
       "    </tr>\n",
       "  </thead>\n",
       "  <tbody>\n",
       "    <tr>\n",
       "      <th>count</th>\n",
       "      <td>6.000000</td>\n",
       "      <td>6.000000</td>\n",
       "      <td>6.000000e+00</td>\n",
       "      <td>6.000000</td>\n",
       "      <td>6.000000e+00</td>\n",
       "      <td>6.000000</td>\n",
       "      <td>6.000000</td>\n",
       "      <td>6.000000</td>\n",
       "      <td>6.000000</td>\n",
       "    </tr>\n",
       "    <tr>\n",
       "      <th>mean</th>\n",
       "      <td>5.500000</td>\n",
       "      <td>0.022471</td>\n",
       "      <td>2.145384e+09</td>\n",
       "      <td>4.827603</td>\n",
       "      <td>4.825634e+07</td>\n",
       "      <td>594.000000</td>\n",
       "      <td>11258.000000</td>\n",
       "      <td>136073.500000</td>\n",
       "      <td>115195.000000</td>\n",
       "    </tr>\n",
       "    <tr>\n",
       "      <th>std</th>\n",
       "      <td>1.870829</td>\n",
       "      <td>0.000351</td>\n",
       "      <td>1.038559e+09</td>\n",
       "      <td>3.831082</td>\n",
       "      <td>7.538539e+05</td>\n",
       "      <td>650.694398</td>\n",
       "      <td>12332.521105</td>\n",
       "      <td>127032.763972</td>\n",
       "      <td>107560.324118</td>\n",
       "    </tr>\n",
       "    <tr>\n",
       "      <th>min</th>\n",
       "      <td>3.000000</td>\n",
       "      <td>0.022070</td>\n",
       "      <td>1.030282e+09</td>\n",
       "      <td>0.000000</td>\n",
       "      <td>4.739482e+07</td>\n",
       "      <td>0.000000</td>\n",
       "      <td>0.000000</td>\n",
       "      <td>0.000000</td>\n",
       "      <td>0.000000</td>\n",
       "    </tr>\n",
       "    <tr>\n",
       "      <th>25%</th>\n",
       "      <td>4.250000</td>\n",
       "      <td>0.022146</td>\n",
       "      <td>1.237243e+09</td>\n",
       "      <td>1.880909</td>\n",
       "      <td>4.755866e+07</td>\n",
       "      <td>0.000000</td>\n",
       "      <td>0.000000</td>\n",
       "      <td>23835.500000</td>\n",
       "      <td>20170.500000</td>\n",
       "    </tr>\n",
       "    <tr>\n",
       "      <th>50%</th>\n",
       "      <td>5.500000</td>\n",
       "      <td>0.022541</td>\n",
       "      <td>2.115194e+09</td>\n",
       "      <td>5.811181</td>\n",
       "      <td>4.840653e+07</td>\n",
       "      <td>594.000000</td>\n",
       "      <td>11258.000000</td>\n",
       "      <td>136134.000000</td>\n",
       "      <td>115209.000000</td>\n",
       "    </tr>\n",
       "    <tr>\n",
       "      <th>75%</th>\n",
       "      <td>6.750000</td>\n",
       "      <td>0.022726</td>\n",
       "      <td>2.867353e+09</td>\n",
       "      <td>6.498215</td>\n",
       "      <td>4.880282e+07</td>\n",
       "      <td>1188.000000</td>\n",
       "      <td>22516.000000</td>\n",
       "      <td>217704.250000</td>\n",
       "      <td>184296.000000</td>\n",
       "    </tr>\n",
       "    <tr>\n",
       "      <th>max</th>\n",
       "      <td>8.000000</td>\n",
       "      <td>0.022873</td>\n",
       "      <td>3.548967e+09</td>\n",
       "      <td>10.045213</td>\n",
       "      <td>4.911923e+07</td>\n",
       "      <td>1188.000000</td>\n",
       "      <td>22516.000000</td>\n",
       "      <td>312876.000000</td>\n",
       "      <td>264936.000000</td>\n",
       "    </tr>\n",
       "  </tbody>\n",
       "</table>\n",
       "</div>"
      ],
      "text/plain": [
       "          count  memory_util           cpu   cpu_util        memory  \\\n",
       "count  6.000000     6.000000  6.000000e+00   6.000000  6.000000e+00   \n",
       "mean   5.500000     0.022471  2.145384e+09   4.827603  4.825634e+07   \n",
       "std    1.870829     0.000351  1.038559e+09   3.831082  7.538539e+05   \n",
       "min    3.000000     0.022070  1.030282e+09   0.000000  4.739482e+07   \n",
       "25%    4.250000     0.022146  1.237243e+09   1.880909  4.755866e+07   \n",
       "50%    5.500000     0.022541  2.115194e+09   5.811181  4.840653e+07   \n",
       "75%    6.750000     0.022726  2.867353e+09   6.498215  4.880282e+07   \n",
       "max    8.000000     0.022873  3.548967e+09  10.045213  4.911923e+07   \n",
       "\n",
       "       network_rx_internet  network_tx_internet  network_rx_edge-net-1  \\\n",
       "count             6.000000             6.000000               6.000000   \n",
       "mean            594.000000         11258.000000          136073.500000   \n",
       "std             650.694398         12332.521105          127032.763972   \n",
       "min               0.000000             0.000000               0.000000   \n",
       "25%               0.000000             0.000000           23835.500000   \n",
       "50%             594.000000         11258.000000          136134.000000   \n",
       "75%            1188.000000         22516.000000          217704.250000   \n",
       "max            1188.000000         22516.000000          312876.000000   \n",
       "\n",
       "       network_tx_edge-net-1  \n",
       "count               6.000000  \n",
       "mean           115195.000000  \n",
       "std            107560.324118  \n",
       "min                 0.000000  \n",
       "25%             20170.500000  \n",
       "50%            115209.000000  \n",
       "75%            184296.000000  \n",
       "max            264936.000000  "
      ]
     },
     "metadata": {},
     "output_type": "display_data"
    }
   ],
   "source": [
    "fogify.get_metrics_from('edge-svc-1.1').describe()"
   ]
  },
  {
   "cell_type": "markdown",
   "metadata": {},
   "source": [
    "## Scenarios\n",
    "A scenario is a sequence of timestamped actions that the Fogify will execute.\n",
    "The scenarios are described in `docker-compose` file under the `scenarios` section.\n",
    "To execute a scenario, Fogify requires only the scenario's name (at the following example `scenario_1`)."
   ]
  },
  {
   "cell_type": "code",
   "execution_count": null,
   "metadata": {},
   "outputs": [
    {
     "name": "stderr",
     "output_type": "stream",
     "text": [
      "  0%|          | 0/130 [00:00<?, ?it/s]"
     ]
    },
    {
     "name": "stdout",
     "output_type": "stream",
     "text": [
      "Scenario execution process: \n"
     ]
    },
    {
     "name": "stderr",
     "output_type": "stream",
     "text": [
      " 23%|██▎       | 30/130 [00:30<01:40,  1.00s/it]"
     ]
    },
    {
     "name": "stdout",
     "output_type": "stream",
     "text": [
      "The action network is executed.\n"
     ]
    },
    {
     "name": "stderr",
     "output_type": "stream",
     "text": [
      " 38%|███▊      | 50/130 [00:50<01:20,  1.00s/it]"
     ]
    },
    {
     "name": "stdout",
     "output_type": "stream",
     "text": [
      "The action network is executed.\n"
     ]
    },
    {
     "name": "stderr",
     "output_type": "stream",
     "text": [
      " 62%|██████▏   | 80/130 [01:21<00:50,  1.00s/it]"
     ]
    },
    {
     "name": "stdout",
     "output_type": "stream",
     "text": [
      "The action network is executed.\n"
     ]
    },
    {
     "name": "stderr",
     "output_type": "stream",
     "text": [
      " 77%|███████▋  | 100/130 [01:41<00:30,  1.00s/it]"
     ]
    },
    {
     "name": "stdout",
     "output_type": "stream",
     "text": [
      "The action network is executed.\n"
     ]
    },
    {
     "name": "stderr",
     "output_type": "stream",
     "text": [
      "100%|██████████| 130/130 [02:12<00:00,  1.02s/it]\n"
     ]
    },
    {
     "name": "stdout",
     "output_type": "stream",
     "text": [
      "The action  is executed.\n",
      "Scenario is finished\n"
     ]
    }
   ],
   "source": [
    "start, end = fogify.scenario_execution('scenario_1')"
   ]
  },
  {
   "cell_type": "code",
   "execution_count": null,
   "metadata": {},
   "outputs": [],
   "source": [
    "%%html\n",
    "<iframe width=\"1200\" height=\"500\" src=\"http://192.168.1.1:3000/d/c308c7ab-1bef-47e6-a3ac-ab660b24cb09/k6-load-testing-results?orgId=1&refresh=5s&from=1705260187697&to=1705263787697\" allowfullscreen></iframe>"
   ]
  },
  {
   "cell_type": "markdown",
   "metadata": {},
   "source": [
    "## Scenarios analysis and more complex plot examples"
   ]
  },
  {
   "cell_type": "markdown",
   "metadata": {},
   "source": [
    "After the scenario's execution users retrieve the generated data by filtering by scenario's time-range. Furthermore, Fogify provides the timestamp of the events and a user is able to combine them.\n",
    "In the following example, user retrieves the number of transmitted packets of the Edge Server (`edge-svr-1`) and, also, depicts the timestamp ( *vertical lines* ) of the scenario's actions."
   ]
  },
  {
   "cell_type": "code",
   "execution_count": null,
   "metadata": {},
   "outputs": [],
   "source": [
    "data, latency = fogify.get_network_transmit_packets('fogify_edge-svr-1', start.timestamp(), end.timestamp(), 'eth0')"
   ]
  },
  {
   "cell_type": "code",
   "execution_count": null,
   "metadata": {},
   "outputs": [],
   "source": [
    "print(f\"Average Latency of Transmitted Pakcets is {latency} seconds, or {latency * 1000} milliseconds\")"
   ]
  },
  {
   "cell_type": "code",
   "execution_count": null,
   "metadata": {},
   "outputs": [],
   "source": [
    "import matplotlib.pyplot as plt\n",
    "import pandas as pd\n",
    "fig, ax = plt.subplots()\n",
    "\n",
    "df = pd.DataFrame(data, columns=[\"timestamp\", \"value\"])\n",
    "df[\"timestamp\"] = pd.to_datetime(df[\"timestamp\"], unit=\"s\")\n",
    "df[\"value\"] = pd.to_numeric(df[\"value\"])\n",
    "\n",
    "df.plot(ax=ax, x=\"timestamp\", y=\"value\", xlabel=\"Timestamp\", ylabel=\"# of Packets Sent\", label=\"# of Packets Sent\", title=\"Packets Sent over Time\")\n",
    "ax.legend()\n",
    "plt.show()"
   ]
  },
  {
   "cell_type": "markdown",
   "metadata": {},
   "source": [
    "The following example, will now retrieve the number of received packets of the Edge Server (`edge-svr-1`) and, also, depicts the timestamp ( *vertical lines* ) of the scenario's actions."
   ]
  },
  {
   "cell_type": "code",
   "execution_count": null,
   "metadata": {},
   "outputs": [],
   "source": [
    "data, latency = fogify.get_network_receive_packets('fogify_edge-svr-1', start.timestamp(), end.timestamp(), 'eth0')"
   ]
  },
  {
   "cell_type": "code",
   "execution_count": null,
   "metadata": {},
   "outputs": [],
   "source": [
    "print(f\"Average Latency of Received Pakcets is {latency} seconds, or {latency * 1000} milliseconds\")"
   ]
  },
  {
   "cell_type": "code",
   "execution_count": null,
   "metadata": {},
   "outputs": [],
   "source": [
    "import matplotlib.pyplot as plt\n",
    "import pandas as pd\n",
    "fig, ax = plt.subplots()\n",
    "\n",
    "df = pd.DataFrame(data, columns=[\"timestamp\", \"value\"])\n",
    "df[\"timestamp\"] = pd.to_datetime(df[\"timestamp\"], unit=\"s\")\n",
    "df[\"value\"] = pd.to_numeric(df[\"value\"])\n",
    "\n",
    "df.plot(ax=ax, x=\"timestamp\", y=\"value\", xlabel=\"Timestamp\", ylabel=\"# of Packets Received\", label=\"# of Packets Received\", title=\"Packets Received over Time\")\n",
    "ax.legend()\n",
    "plt.show()"
   ]
  },
  {
   "cell_type": "markdown",
   "metadata": {},
   "source": [
    "The following example, will now retrieve the number of Transmitted packets that were dropped of the Edge Server (`edge-svr-1`) and, also, depicts the timestamp ( *vertical lines* ) of the scenario's actions."
   ]
  },
  {
   "cell_type": "code",
   "execution_count": null,
   "metadata": {},
   "outputs": [],
   "source": [
    "data = fogify.get_network_transmit_packets_dropped('fogify_edge-svr-1', start.timestamp(), end.timestamp(), 'eth0')"
   ]
  },
  {
   "cell_type": "code",
   "execution_count": null,
   "metadata": {},
   "outputs": [],
   "source": [
    "import matplotlib.pyplot as plt\n",
    "import pandas as pd\n",
    "fig, ax = plt.subplots()\n",
    "\n",
    "df = pd.DataFrame(data, columns=[\"timestamp\", \"value\"])\n",
    "df[\"timestamp\"] = pd.to_datetime(df[\"timestamp\"], unit=\"s\")\n",
    "df[\"value\"] = pd.to_numeric(df[\"value\"])\n",
    "\n",
    "df.plot(ax=ax, x=\"timestamp\", y=\"value\", xlabel=\"Timestamp\", ylabel=\"# of Dropped Transmitted Packets\", label=\"# of Dropped Packets\", title=\"Packets Dropped in Transmission Sent of Edge Server\")\n",
    "ax.legend()\n",
    "plt.show()"
   ]
  },
  {
   "cell_type": "markdown",
   "metadata": {},
   "source": [
    "## Undeploy\n",
    "Finally, the FogifySDK provides the `undeploy` method that destroys the emulated infrastructure."
   ]
  },
  {
   "cell_type": "code",
   "execution_count": null,
   "metadata": {},
   "outputs": [],
   "source": [
    "fogify.undeploy()"
   ]
  },
  {
   "cell_type": "markdown",
   "metadata": {},
   "source": [
    "### Timelines"
   ]
  },
  {
   "cell_type": "code",
   "execution_count": null,
   "metadata": {},
   "outputs": [
    {
     "data": {
      "text/plain": [
       "<matplotlib.axes._subplots.AxesSubplot at 0x7f01ea8e1f90>"
      ]
     },
     "metadata": {},
     "output_type": "display_data"
    },
    {
     "data": {
      "image/png": "[encoded data removed]",
      "text/plain": [
       "<Figure size 432x288 with 1 Axes>"
      ]
     },
     "metadata": {},
     "output_type": "display_data"
    }
   ],
   "source": [
    "fogify.get_metrics_from('mec-svc-1.1').cpu_util.plot()"
   ]
  },
  {
   "cell_type": "markdown",
   "metadata": {},
   "source": [
    "### Distributions"
   ]
  },
  {
   "cell_type": "code",
   "execution_count": null,
   "metadata": {},
   "outputs": [
    {
     "data": {
      "text/plain": [
       "<matplotlib.axes._subplots.AxesSubplot at 0x7f01e80c8ad0>"
      ]
     },
     "metadata": {},
     "output_type": "display_data"
    },
    {
     "data": {
      "image/png": "[encoded data removed]",
      "text/plain": [
       "<Figure size 432x288 with 1 Axes>"
      ]
     },
     "metadata": {},
     "output_type": "display_data"
    }
   ],
   "source": [
    "data = fogify.get_metrics_from('mec-svc-1.1')\n",
    "data[['network_rx_edge-net-1', 'network_tx_edge-net-1']].diff().plot.kde()"
   ]
  },
  {
   "cell_type": "markdown",
   "metadata": {},
   "source": [
    "### Scatter plots"
   ]
  },
  {
   "cell_type": "code",
   "execution_count": null,
   "metadata": {},
   "outputs": [
    {
     "data": {
      "text/plain": [
       "<matplotlib.axes._subplots.AxesSubplot at 0x7f01e22b9590>"
      ]
     },
     "metadata": {},
     "output_type": "display_data"
    },
    {
     "data": {
      "image/png": "[encoded data removed]",
      "text/plain": [
       "<Figure size 432x288 with 1 Axes>"
      ]
     },
     "metadata": {},
     "output_type": "display_data"
    }
   ],
   "source": [
    "fogify.get_metrics_from('mec-svc-1.1').plot.scatter('cpu_util', 'memory_util')"
   ]
  },
  {
   "cell_type": "markdown",
   "metadata": {},
   "source": [
    "## Ad-hoc Actions\n",
    "\n",
    "With ad-hoc actions, users are able to alternate the running fog topology. Specifically, they can inject network alterations, scaling actions, workload interferences, and arbitrary commands."
   ]
  },
  {
   "cell_type": "markdown",
   "metadata": {},
   "source": [
    "For instance, the following method injects a 25% `cpu` intensive workload on the `cloud-server` emulated instance for an one-minute duration (default)."
   ]
  },
  {
   "cell_type": "code",
   "execution_count": null,
   "metadata": {},
   "outputs": [
    {
     "data": {
      "text/plain": [
       "{'message': 'OK'}"
      ]
     },
     "metadata": {},
     "output_type": "display_data"
    }
   ],
   "source": [
    "fogify.stress('cloud-server.1', cpu=25)"
   ]
  },
  {
   "cell_type": "markdown",
   "metadata": {},
   "source": [
    "After that, let's retrieve the CPU utilization to evaluate if the action was injected."
   ]
  },
  {
   "cell_type": "code",
   "execution_count": null,
   "metadata": {},
   "outputs": [
    {
     "data": {
      "text/plain": [
       "<matplotlib.axes._subplots.AxesSubplot at 0x7f01e22ae450>"
      ]
     },
     "metadata": {},
     "output_type": "display_data"
    },
    {
     "data": {
      "image/png": "[encoded data removed]",
      "text/plain": [
       "<Figure size 432x288 with 1 Axes>"
      ]
     },
     "metadata": {},
     "output_type": "display_data"
    }
   ],
   "source": [
    "fogify.get_metrics_from('cloud-server.1').cpu_util.plot()"
   ]
  },
  {
   "cell_type": "markdown",
   "metadata": {},
   "source": [
    "Similarly, the user generates the CPU utilization plot of the first instance of `car-workload-1` service. "
   ]
  },
  {
   "cell_type": "code",
   "execution_count": null,
   "metadata": {},
   "outputs": [
    {
     "data": {
      "text/plain": [
       "<FogifySDK.FogifySDK.FogifySDK at 0x7f021c1c8d50>"
      ]
     },
     "metadata": {},
     "output_type": "display_data"
    },
    {
     "data": {
      "image/png": "[encoded data removed]",
      "text/plain": [
       "<Figure size 432x288 with 1 Axes>"
      ]
     },
     "metadata": {},
     "output_type": "display_data"
    }
   ],
   "source": [
    "import matplotlib.pyplot as plt\n",
    "import pandas as pd\n",
    "fig, ax = plt.subplots()\n",
    "\n",
    "data = fogify.get_metrics_from('car-workload-1.1')\n",
    "data = data[data.index>start]\n",
    "data = data[data.index<end]\n",
    "\n",
    "data['cpu_util'].plot(ax=ax,label=\"cpu-utilization\")\n",
    "ax.legend()\n",
    "fogify.plot_annotations(ax, start=start, stop=end, colors_gist=['gray','darkgray', 'gray', 'black'])"
   ]
  },
  {
   "cell_type": "markdown",
   "metadata": {},
   "source": [
    "Moreover, the user generates a scatter plot ( *cpu utilization* vs *network traffic* of `mec-svc-1`)  with points only from the period of scenario execution."
   ]
  },
  {
   "cell_type": "code",
   "execution_count": null,
   "metadata": {},
   "outputs": [
    {
     "data": {
      "text/plain": [
       "<matplotlib.axes._subplots.AxesSubplot at 0x7f01e22c1c10>"
      ]
     },
     "metadata": {},
     "output_type": "display_data"
    },
    {
     "data": {
      "image/png": "[encoded data removed]",
      "text/plain": [
       "<Figure size 432x288 with 1 Axes>"
      ]
     },
     "metadata": {},
     "output_type": "display_data"
    }
   ],
   "source": [
    "data = fogify.get_metrics_from('mec-svc-1.1')\n",
    "data = data[data.index>start]\n",
    "data = data[data.index<end]\n",
    "data['network-edge'] = data['network_tx_edge-net-1'].diff() + data['network_rx_edge-net-1'].diff()\n",
    "data.plot.scatter('cpu_util', 'network-edge' )"
   ]
  },
  {
   "cell_type": "markdown",
   "metadata": {},
   "source": [
    "## Undeploy\n",
    "Finally, the FogifySDK provides the `undeploy` method that destroys the emulated infrastructure."
   ]
  },
  {
   "cell_type": "code",
   "execution_count": null,
   "metadata": {},
   "outputs": [
    {
     "name": "stderr",
     "output_type": "stream",
     "text": [
      "Undeploy process: 100%|██████████| 6/6 [00:05<00:00,  1.19it/s]\n"
     ]
    },
    {
     "data": {
      "text/plain": [
       "{'message': 'The 6 services are undeployed'}"
      ]
     },
     "metadata": {},
     "output_type": "display_data"
    }
   ],
   "source": [
    "fogify.undeploy()"
   ]
  }
 ],
 "metadata": {
  "kernelspec": {
   "display_name": "Python 3 (ipykernel)",
   "language": "python",
   "name": "python3"
  }
 },
 "nbformat": 4,
 "nbformat_minor": 2
}
